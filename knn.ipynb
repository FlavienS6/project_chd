{
 "cells": [
  {
   "cell_type": "code",
   "execution_count": 1,
   "id": "e5bf6f88-a9aa-494c-8caa-50949536f7f4",
   "metadata": {
    "tags": []
   },
   "outputs": [],
   "source": [
    "import numpy as np\n",
    "import pandas as pd\n",
    "import matplotlib.pyplot as plt\n",
    "import seaborn as sns"
   ]
  },
  {
   "cell_type": "code",
   "execution_count": 2,
   "id": "3160d578-cd9e-47aa-9cd3-13d00154f9de",
   "metadata": {
    "tags": []
   },
   "outputs": [
    {
     "name": "stdout",
     "output_type": "stream",
     "text": [
      "   Unnamed: 0  sex  age  education  currentSmoker  cigsPerDay  BPMeds  \\\n",
      "0        1267    1   58        1.0              0         0.0     0.0   \n",
      "1        1209    0   40        1.0              1        15.0     0.0   \n",
      "2        2050    0   52        1.0              0         0.0     0.0   \n",
      "3        1183    1   38        2.0              1        43.0     0.0   \n",
      "4        3225    0   43        1.0              0         0.0     0.0   \n",
      "\n",
      "   prevalentStroke  prevalentHyp  diabetes  totChol  sysBP  diaBP    BMI  \\\n",
      "0                0             0         0    220.0  143.0  104.0  29.85   \n",
      "1                0             0         0    199.0  122.0   82.0  22.16   \n",
      "2                0             0         0    275.0  112.0   71.0  25.68   \n",
      "3                0             1         0    170.0  130.0   94.0  23.90   \n",
      "4                0             0         0    202.0  124.0   92.0  21.26   \n",
      "\n",
      "   heartRate  glucose  TenYearCHD  \n",
      "0         75     87.0           1  \n",
      "1         85     77.0           0  \n",
      "2         80      NaN           0  \n",
      "3        110     75.0           0  \n",
      "4         75     74.0           0  \n",
      "Unnamed: 0           0\n",
      "sex                  0\n",
      "age                  0\n",
      "education           85\n",
      "currentSmoker        0\n",
      "cigsPerDay          24\n",
      "BPMeds              37\n",
      "prevalentStroke      0\n",
      "prevalentHyp         0\n",
      "diabetes             0\n",
      "totChol             39\n",
      "sysBP                0\n",
      "diaBP                0\n",
      "BMI                 15\n",
      "heartRate            0\n",
      "glucose            285\n",
      "TenYearCHD           0\n",
      "dtype: int64\n"
     ]
    }
   ],
   "source": [
    "df = pd.read_csv('fhs_train.csv')\n",
    "print(df.head())\n",
    "print(df.isnull().sum())"
   ]
  },
  {
   "cell_type": "code",
   "execution_count": 18,
   "id": "9228104b-f934-449e-8253-cb4a78747e03",
   "metadata": {
    "tags": []
   },
   "outputs": [
    {
     "name": "stdout",
     "output_type": "stream",
     "text": [
      "TenYearCHD\n",
      "0.0    2693\n",
      "1.0     487\n",
      "Name: count, dtype: int64\n",
      "Unnamed: 0         0\n",
      "sex                0\n",
      "age                0\n",
      "education          0\n",
      "currentSmoker      0\n",
      "cigsPerDay         0\n",
      "BPMeds             0\n",
      "prevalentStroke    0\n",
      "prevalentHyp       0\n",
      "diabetes           0\n",
      "totChol            0\n",
      "sysBP              0\n",
      "diaBP              0\n",
      "BMI                0\n",
      "heartRate          0\n",
      "glucose            0\n",
      "TenYearCHD         0\n",
      "dtype: int64\n",
      "TenYearCHD\n",
      "-0.425252    2693\n",
      " 2.351547     487\n",
      "Name: count, dtype: int64\n",
      "TenYearCHD\n",
      "0.0    2693\n",
      "1.0     487\n",
      "Name: count, dtype: int64\n"
     ]
    }
   ],
   "source": [
    "\"\"\"\n",
    "#taking out the missing values results in a r2 or 0.02\n",
    "rows_with_nan = np.isnan(df).any(axis=1)\n",
    "df = df[~rows_with_nan]\n",
    "\n",
    "#replacing missing values with the median results in a r2 0f 0.027\n",
    "df['education'].fillna(df['education'].median(), inplace=True)\n",
    "df['cigsPerDay'].fillna(df['cigsPerDay'].median(), inplace=True)\n",
    "df['BPMeds'].fillna(df['BPMeds'].median(), inplace=True)\n",
    "df['totChol'].fillna(df['totChol'].median(), inplace=True)\n",
    "df['BMI'].fillna(df['BMI'].median(), inplace=True)\n",
    "df['glucose'].fillna(df['glucose'].median(), inplace=True)\n",
    "print(df.isnull().sum())\n",
    "\n",
    "for column in df.columns:\n",
    "    sns.kdeplot(df[column], label=column, shade=True)\n",
    "    plt.xlabel('Value')\n",
    "    plt.ylabel('Density')\n",
    "    plt.title(column)\n",
    "    plt.legend()\n",
    "    plt.show()\n",
    "\"\"\"\n",
    "#Using KNNImputer to fill in the missing values results in an r2 of 0.003\n",
    "#BUT using KNN imputer and robust scaler results in an r2 of 0.073\n",
    "#BUT using KNN imputer and standard scaler results in an r2 of 0.077\n",
    "#Note to self: standard scaler only scales normal distributions... may want to dry different scaling distributions, like maxmin. \n",
    "\n",
    "from sklearn.impute import KNNImputer\n",
    "from sklearn.preprocessing import StandardScaler\n",
    "from sklearn.preprocessing import RobustScaler\n",
    "imp = KNNImputer(n_neighbors=5)\n",
    "ss = StandardScaler()\n",
    "rs = RobustScaler()\n",
    "print(df['TenYearCHD'].value_counts())\n",
    "df = pd.DataFrame(imp.fit_transform(df), columns=df.columns)\n",
    "#df = pd.DataFrame(rs.fit_transform(df), columns=df.columns)\n",
    "df = pd.DataFrame(ss.fit_transform(df), columns=df.columns)\n",
    "print(df.isna().sum())\n",
    "print(df['TenYearCHD'].value_counts())\n",
    "df['TenYearCHD'][df['TenYearCHD']<0]=0\n",
    "df['TenYearCHD'][df['TenYearCHD']>0]=1\n",
    "print(df['TenYearCHD'].value_counts())"
   ]
  },
  {
   "cell_type": "code",
   "execution_count": 19,
   "id": "b92c64b4-d698-41e2-a432-f8286c51b3c5",
   "metadata": {
    "tags": []
   },
   "outputs": [],
   "source": [
    "from sklearn.model_selection import train_test_split\n",
    "y = df['TenYearCHD']\n",
    "X = df.drop('TenYearCHD',axis=1)\n",
    "X_train, X_test, y_train, y_test = train_test_split(X,y,test_size=.2,random_state=100)"
   ]
  },
  {
   "cell_type": "code",
   "execution_count": 20,
   "id": "03aaa3f4-d338-47f6-96c1-6ccd8244126f",
   "metadata": {
    "tags": []
   },
   "outputs": [
    {
     "name": "stdout",
     "output_type": "stream",
     "text": [
      "Best k: 42\n",
      "R-squared of the best model: 0.07655026119733088\n"
     ]
    },
    {
     "data": {
      "image/png": "[encoded data removed]",
      "text/plain": [
       "<Figure size 640x480 with 1 Axes>"
      ]
     },
     "metadata": {},
     "output_type": "display_data"
    }
   ],
   "source": [
    "from sklearn.neighbors import KNeighborsRegressor\n",
    "from sklearn.metrics import r2_score\n",
    "k_bar = 200\n",
    "k_grid = np.arange(1, k_bar)\n",
    "SSE = np.zeros(k_bar)\n",
    "r2_scores = np.zeros(k_bar)\n",
    "\n",
    "for k in range(k_bar):\n",
    "    fitted_model = KNeighborsRegressor(n_neighbors=k+1).fit(X_train, y_train)\n",
    "    y_hat = fitted_model.predict(X_test)\n",
    "    SSE[k] = np.sum((y_test - y_hat)**2)\n",
    "    r2_scores[k] = r2_score(y_test, y_hat)\n",
    "\n",
    "SSE_min = np.min(SSE)\n",
    "min_index = np.where(SSE == SSE_min)\n",
    "k_star = k_grid[min_index][0]\n",
    "print(\"Best k:\", k_star)\n",
    "\n",
    "print(\"R-squared of the best model:\", r2_scores[min_index][0])\n",
    "\n",
    "plt.plot(np.arange(0, k_bar), SSE)\n",
    "plt.xlabel(\"k\")\n",
    "plt.title(\"Optimal k:\" + str(k_star))\n",
    "plt.ylabel('SSE')\n",
    "plt.show()\n",
    "#not a very good r2... am going to have to make a lot of changes later on. "
   ]
  },
  {
   "cell_type": "code",
   "execution_count": null,
   "id": "67052cf3-9328-48b1-bf9d-7c7e1c21806f",
   "metadata": {},
   "outputs": [],
   "source": []
  }
 ],
 "metadata": {
  "kernelspec": {
   "display_name": "Python 3 (ipykernel)",
   "language": "python",
   "name": "python3"
  },
  "language_info": {
   "codemirror_mode": {
    "name": "ipython",
    "version": 3
   },
   "file_extension": ".py",
   "mimetype": "text/x-python",
   "name": "python",
   "nbconvert_exporter": "python",
   "pygments_lexer": "ipython3",
   "version": "3.11.4"
  }
 },
 "nbformat": 4,
 "nbformat_minor": 5
}
