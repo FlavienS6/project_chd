{
 "cells": [
  {
   "cell_type": "code",
   "execution_count": 1,
   "id": "e5bf6f88-a9aa-494c-8caa-50949536f7f4",
   "metadata": {
    "tags": []
   },
   "outputs": [],
   "source": [
    "import numpy as np\n",
    "import pandas as pd\n",
    "import matplotlib.pyplot as plt\n",
    "import seaborn as sns"
   ]
  },
  {
   "cell_type": "code",
   "execution_count": 2,
   "id": "3160d578-cd9e-47aa-9cd3-13d00154f9de",
   "metadata": {
    "tags": []
   },
   "outputs": [
    {
     "name": "stdout",
     "output_type": "stream",
     "text": [
      "   Unnamed: 0  sex  age  education  currentSmoker  cigsPerDay  BPMeds  \\\n",
      "0        1267    1   58        1.0              0         0.0     0.0   \n",
      "1        1209    0   40        1.0              1        15.0     0.0   \n",
      "2        2050    0   52        1.0              0         0.0     0.0   \n",
      "3        1183    1   38        2.0              1        43.0     0.0   \n",
      "4        3225    0   43        1.0              0         0.0     0.0   \n",
      "\n",
      "   prevalentStroke  prevalentHyp  diabetes  totChol  sysBP  diaBP    BMI  \\\n",
      "0                0             0         0    220.0  143.0  104.0  29.85   \n",
      "1                0             0         0    199.0  122.0   82.0  22.16   \n",
      "2                0             0         0    275.0  112.0   71.0  25.68   \n",
      "3                0             1         0    170.0  130.0   94.0  23.90   \n",
      "4                0             0         0    202.0  124.0   92.0  21.26   \n",
      "\n",
      "   heartRate  glucose  TenYearCHD  \n",
      "0         75     87.0           1  \n",
      "1         85     77.0           0  \n",
      "2         80      NaN           0  \n",
      "3        110     75.0           0  \n",
      "4         75     74.0           0  \n",
      "Unnamed: 0           0\n",
      "sex                  0\n",
      "age                  0\n",
      "education           85\n",
      "currentSmoker        0\n",
      "cigsPerDay          24\n",
      "BPMeds              37\n",
      "prevalentStroke      0\n",
      "prevalentHyp         0\n",
      "diabetes             0\n",
      "totChol             39\n",
      "sysBP                0\n",
      "diaBP                0\n",
      "BMI                 15\n",
      "heartRate            0\n",
      "glucose            285\n",
      "TenYearCHD           0\n",
      "dtype: int64\n"
     ]
    }
   ],
   "source": [
    "df = pd.read_csv('fhs_train.csv')\n",
    "df2 = pd.read_csv('fhs_test.csv')\n",
    "print(df.head())\n",
    "print(df.isnull().sum())"
   ]
  },
  {
   "cell_type": "code",
   "execution_count": 3,
   "id": "9228104b-f934-449e-8253-cb4a78747e03",
   "metadata": {
    "tags": []
   },
   "outputs": [
    {
     "name": "stdout",
     "output_type": "stream",
     "text": [
      "TenYearCHD\n",
      "0    2693\n",
      "1     487\n",
      "Name: count, dtype: int64\n",
      "Unnamed: 0         0\n",
      "sex                0\n",
      "age                0\n",
      "education          0\n",
      "currentSmoker      0\n",
      "cigsPerDay         0\n",
      "BPMeds             0\n",
      "prevalentStroke    0\n",
      "prevalentHyp       0\n",
      "diabetes           0\n",
      "totChol            0\n",
      "sysBP              0\n",
      "diaBP              0\n",
      "BMI                0\n",
      "heartRate          0\n",
      "glucose            0\n",
      "TenYearCHD         0\n",
      "dtype: int64\n",
      "TenYearCHD\n",
      "-0.425252    2693\n",
      " 2.351547     487\n",
      "Name: count, dtype: int64\n",
      "TenYearCHD\n",
      "0.0    2693\n",
      "1.0     487\n",
      "Name: count, dtype: int64\n"
     ]
    }
   ],
   "source": [
    "\"\"\"\n",
    "#taking out the missing values results in a r2 or 0.02\n",
    "rows_with_nan = np.isnan(df).any(axis=1)\n",
    "df = df[~rows_with_nan]\n",
    "\n",
    "#replacing missing values with the median results in a r2 0f 0.027\n",
    "df['education'].fillna(df['education'].median(), inplace=True)\n",
    "df['cigsPerDay'].fillna(df['cigsPerDay'].median(), inplace=True)\n",
    "df['BPMeds'].fillna(df['BPMeds'].median(), inplace=True)\n",
    "df['totChol'].fillna(df['totChol'].median(), inplace=True)\n",
    "df['BMI'].fillna(df['BMI'].median(), inplace=True)\n",
    "df['glucose'].fillna(df['glucose'].median(), inplace=True)\n",
    "print(df.isnull().sum())\n",
    "\n",
    "for column in df.columns:\n",
    "    sns.kdeplot(df[column], label=column, shade=True)\n",
    "    plt.xlabel('Value')\n",
    "    plt.ylabel('Density')\n",
    "    plt.title(column)\n",
    "    plt.legend()\n",
    "    plt.show()\n",
    "\"\"\"\n",
    "#Using KNNImputer to fill in the missing values results in an r2 of 0.003\n",
    "#BUT using KNN imputer and robust scaler results in an r2 of 0.073\n",
    "#BUT using KNN imputer and standard scaler results in an r2 of 0.077\n",
    "#Note to self: standard scaler only scales normal distributions... may want to dry different scaling distributions, like maxmin. \n",
    "\n",
    "from sklearn.impute import KNNImputer\n",
    "from sklearn.preprocessing import StandardScaler\n",
    "from sklearn.preprocessing import RobustScaler\n",
    "imp = KNNImputer(n_neighbors=5)\n",
    "ss = StandardScaler()\n",
    "rs = RobustScaler()\n",
    "print(df['TenYearCHD'].value_counts())\n",
    "df = pd.DataFrame(imp.fit_transform(df), columns=df.columns)\n",
    "df2 = pd.DataFrame(imp.fit_transform(df), columns=df.columns)\n",
    "#df = pd.DataFrame(rs.fit_transform(df), columns=df.columns)\n",
    "df = pd.DataFrame(ss.fit_transform(df), columns=df.columns)\n",
    "d2 = pd.DataFrame(imp.fit_transform(df), columns=df.columns)\n",
    "print(df.isna().sum())\n",
    "print(df['TenYearCHD'].value_counts())\n",
    "df['TenYearCHD'][df['TenYearCHD']<0]=0\n",
    "df['TenYearCHD'][df['TenYearCHD']>0]=1\n",
    "df2['TenYearCHD'][df['TenYearCHD']<0]=0\n",
    "df2['TenYearCHD'][df['TenYearCHD']>0]=1\n",
    "print(df['TenYearCHD'].value_counts())"
   ]
  },
  {
   "cell_type": "code",
   "execution_count": 7,
   "id": "b92c64b4-d698-41e2-a432-f8286c51b3c5",
   "metadata": {
    "tags": []
   },
   "outputs": [],
   "source": [
    "from sklearn.model_selection import train_test_split\n",
    "y_train = df['TenYearCHD']\n",
    "X_train = df.drop('TenYearCHD',axis=1)\n",
    "y_test = df2['TenYearCHD']\n",
    "X_test = df2.drop('TenYearCHD',axis=1)\n"
   ]
  },
  {
   "cell_type": "code",
   "execution_count": 8,
   "id": "03aaa3f4-d338-47f6-96c1-6ccd8244126f",
   "metadata": {
    "tags": []
   },
   "outputs": [
    {
     "name": "stdout",
     "output_type": "stream",
     "text": [
      "Best k: 199\n",
      "R-squared of the best model: -0.07164471327416666\n"
     ]
    },
    {
     "data": {
      "image/png": "[encoded data removed]",
      "text/plain": [
       "<Figure size 640x480 with 1 Axes>"
      ]
     },
     "metadata": {},
     "output_type": "display_data"
    }
   ],
   "source": [
    "from sklearn.neighbors import KNeighborsRegressor\n",
    "from sklearn.metrics import r2_score\n",
    "\n",
    "k_bar = 200\n",
    "k_grid = np.arange(1, k_bar)\n",
    "SSE = np.zeros(k_bar - 1)\n",
    "r2_scores = np.zeros(k_bar - 1)\n",
    "\n",
    "for k in range(k_bar - 1):\n",
    "    fitted_model = KNeighborsRegressor(n_neighbors=k+1).fit(X_train, y_train)\n",
    "    y_hat = fitted_model.predict(X_test)\n",
    "    SSE[k] = np.sum((y_test - y_hat)**2)\n",
    "    r2_scores[k] = r2_score(y_test, y_hat)\n",
    "\n",
    "SSE_min = np.min(SSE)\n",
    "min_index = np.argmin(SSE)\n",
    "k_star = k_grid[min_index]\n",
    "print(\"Best k:\", k_star)\n",
    "\n",
    "print(\"R-squared of the best model:\", r2_scores[min_index])\n",
    "\n",
    "plt.plot(np.arange(1, k_bar), SSE)\n",
    "plt.xlabel(\"k\")\n",
    "plt.title(\"Optimal k:\" + str(k_star))\n",
    "plt.ylabel('SSE')\n",
    "plt.show()\n",
    "#not a very good r2... am going to have to make a lot of changes later on. "
   ]
  },
  {
   "cell_type": "code",
   "execution_count": null,
   "id": "67052cf3-9328-48b1-bf9d-7c7e1c21806f",
   "metadata": {},
   "outputs": [
    {
     "name": "stderr",
     "output_type": "stream",
     "text": [
      "Progress: 100%|█████████▉| 6868/6884 [3:05:43<00:28,  1.80s/combination]  "
     ]
    }
   ],
   "source": [
    "import itertools\n",
    "from tqdm import tqdm\n",
    "#Then I tried to mix-and-match a few variables, since putting them all together to the model was probably overcomplicating it. \n",
    "#After failing after a few combinations, I decided that this was too much work to do manually and decided to automate it. \n",
    "#Below is code written by myself and ChatGPT that brute forces every combination of 1 to 5 variables, and remembers the best r^2 value. \n",
    "#This code took about an hour to run. \n",
    "#As you can tell, this helped, but not much... increased r2 from 0.076 to 0.095. Yay!\n",
    "from sklearn.model_selection import train_test_split\n",
    "from sklearn.neighbors import KNeighborsRegressor\n",
    "from sklearn.metrics import r2_score\n",
    "import numpy as np\n",
    "import pandas as pd\n",
    "import matplotlib.pyplot as plt\n",
    "\n",
    "\n",
    "\n",
    "# List of all variable names\n",
    "all_variables = list(X_train.columns)\n",
    "\n",
    "best_r2 = -np.inf  # Initialize the best R-squared value\n",
    "best_model = None  # Initialize the best model\n",
    "best_features = None  # Initialize the best set of features\n",
    "best_k = None  # Initialize the best value of k\n",
    "\n",
    "k_bar = 50\n",
    "k_grid = np.arange(1, k_bar)\n",
    "\n",
    "# Total number of combinationslen(all_variables) + 1\n",
    "total_combinations = sum(1 for r in range(1, 6) for _ in itertools.combinations(all_variables, r))\n",
    "\n",
    "# Initialize tqdm with the total number of combinations\n",
    "progress_bar = tqdm(total=total_combinations, desc=\"Progress\", unit=\"combination\")\n",
    "\n",
    "# Iterate over all possible combinations of variableslen(all_variables) + 1\n",
    "for r in range(1, 6):\n",
    "    for variable_combination in itertools.combinations(all_variables, r):\n",
    "        # Create a DataFrame with only the selected features\n",
    "        X_train_subset = X_train[list(variable_combination)]\n",
    "        X_test_subset = X_test[list(variable_combination)]\n",
    "        \n",
    "        # Train KNN model for each value of k\n",
    "        SSE = np.zeros(k_bar)\n",
    "        r2_scores = np.zeros(k_bar)\n",
    "        for k in range(k_bar):\n",
    "            fitted_model = KNeighborsRegressor(n_neighbors=k+1).fit(X_train_subset, y_train)\n",
    "            y_hat = fitted_model.predict(X_test_subset)\n",
    "            SSE[k] = np.sum((y_test - y_hat)**2)\n",
    "            r2_scores[k] = r2_score(y_test, y_hat)\n",
    "\n",
    "        # Find the optimal k for this combination of variables\n",
    "        SSE_min = np.min(SSE)\n",
    "        min_index = np.argmin(SSE)-1\n",
    "        k_star = k_grid[min_index]\n",
    "\n",
    "        # Check if this model is better than the current best model\n",
    "        if r2_scores[min_index] > best_r2:\n",
    "            best_r2 = r2_scores[min_index]\n",
    "            best_model = fitted_model\n",
    "            best_features = variable_combination\n",
    "            best_k = k_star\n",
    "\n",
    "        # Update the progress bar\n",
    "        progress_bar.update(1)\n",
    "\n",
    "# Close the progress bar\n",
    "progress_bar.close()\n",
    "\n",
    "# Print the results\n",
    "print(\"Best combination of variables:\", best_features)\n",
    "print(\"Best k:\", best_k)\n",
    "print(\"Best R-squared:\", best_r2)\n",
    "\n",
    "# Plot SSE vs k for the best model\n",
    "plt.plot(np.arange(0, k_bar), SSE)\n",
    "plt.xlabel(\"k\")\n",
    "plt.title(\"Optimal k:\" + str(best_k))\n",
    "plt.ylabel('SSE')\n",
    "plt.show()\n",
    "\n",
    "\"\"\"\n",
    "Best combination of variables: ('age', 'sysBP', 'BMI', 'glucose')\n",
    "Best k: 48\n",
    "Best R-squared: 0.09504864401653368\n",
    "\"\"\""
   ]
  },
  {
   "cell_type": "code",
   "execution_count": null,
   "id": "c5a95db3-c5c7-49b8-ac05-2bfab5b1667f",
   "metadata": {},
   "outputs": [],
   "source": []
  }
 ],
 "metadata": {
  "kernelspec": {
   "display_name": "Python 3 (ipykernel)",
   "language": "python",
   "name": "python3"
  },
  "language_info": {
   "codemirror_mode": {
    "name": "ipython",
    "version": 3
   },
   "file_extension": ".py",
   "mimetype": "text/x-python",
   "name": "python",
   "nbconvert_exporter": "python",
   "pygments_lexer": "ipython3",
   "version": "3.11.4"
  }
 },
 "nbformat": 4,
 "nbformat_minor": 5
}
